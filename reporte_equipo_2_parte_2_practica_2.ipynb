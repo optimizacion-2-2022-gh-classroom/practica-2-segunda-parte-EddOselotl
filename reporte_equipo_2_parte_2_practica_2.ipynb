{
 "cells": [
  {
   "cell_type": "markdown",
   "metadata": {
    "tags": []
   },
   "source": [
    "# Práctica 2 Parte 2"
   ]
  },
  {
   "cell_type": "markdown",
   "metadata": {
    "tags": []
   },
   "source": [
    "## Descripción\n",
    "\n",
    "La segunda parte consiste en reimplementar nuestro método numérico realizado en la práctica 1 con niveles de BLAS, cómputo en paralelo (CPU/GPU), con compilación a **C** (por ejemplo vía _cython_, _rcpp_) o **julia** guiándose del perfilamiento de memoria, uso de procesador o tiempo de ejecución del paquete.\n",
    "Para consultar la información de nuestro paquete, vea: [reporte de la práctica 1, segunda parte](https://github.com/optimizacion-2-2022-gh-classroom/practica-1-segunda-parte-LuzVerde23/blob/main/reporte_equipo_2_parte_2_practica_1.ipynb).\n"
   ]
  },
  {
   "cell_type": "code",
   "execution_count": 1,
   "metadata": {
    "tags": [
     "imports"
    ]
   },
   "outputs": [],
   "source": [
    "import time\n",
    "import pandas as pd\n",
    "import networkx as nx\n",
    "import random\n",
    "import cython\n",
    "from MaxFlowAeiu import MaxFlowAeiu"
   ]
  },
  {
   "cell_type": "markdown",
   "metadata": {
    "tags": []
   },
   "source": [
    "Planeamos correr los mismos ejemplos de la [práctica 2, primera parte](https://github.com/optimizacion-2-2022-gh-classroom/practica-2-primera-parte-urieluard/blob/main/reporte_equipo_2_parte_1_practica_2.ipynb), con la nueva implementación, para la cual se puede consultar el desarrollo en la carpeta [notebooks_apoyo](https://github.com/optimizacion-2-2022-gh-classroom/practica-2-segunda-parte-EddOselotl/tree/main/notebooks_apoyo). Y al final comparar los tiempos obtenidos entre las dos versiones de nuestro paquete MaxFlowAeiu."
   ]
  },
  {
   "cell_type": "markdown",
   "metadata": {
    "tags": []
   },
   "source": [
    "## Ejemplo 1\n",
    "Para comenzar usaremos el ejemplo de la práctica uno"
   ]
  },
  {
   "cell_type": "code",
   "execution_count": 2,
   "metadata": {
    "tags": [
     "block:read1"
    ]
   },
   "outputs": [],
   "source": [
    "url_d = \"https://raw.githubusercontent.com/optimizacion-2-2022-gh-classroom/practica-2-primera-parte-urieluard/main/BD/d.csv\"\n",
    "d = pd.read_csv(url_d,header=None)\n",
    "arreglo = d.values.tolist()"
   ]
  },
  {
   "cell_type": "code",
   "execution_count": 3,
   "metadata": {
    "tags": [
     "block:mf1",
     "prev:read1"
    ]
   },
   "outputs": [
    {
     "name": "stdout",
     "output_type": "stream",
     "text": [
      "CPU times: user 2 µs, sys: 0 ns, total: 2 µs\n",
      "Wall time: 4.77 µs\n",
      "maximun flow is 1480\n",
      "The maximum flow in this network is 1480\n"
     ]
    }
   ],
   "source": [
    "%time\n",
    "start_time = time.time()\n",
    "MF=MaxFlowAeiu(arreglo)\n",
    "MF.ford_fulkerson()\n",
    "print(\"The maximum flow in this network is {}\".format(MF.get_maximumflow()))\n",
    "end_time = time.time()"
   ]
  },
  {
   "cell_type": "code",
   "execution_count": 4,
   "metadata": {
    "tags": [
     "block:time1",
     "prev:mf1"
    ]
   },
   "outputs": [
    {
     "name": "stdout",
     "output_type": "stream",
     "text": [
      "El algoritmo para el ejemplo 1 tomó 0.012638330459594727 segundos\n"
     ]
    }
   ],
   "source": [
    "secs_1 = end_time-start_time\n",
    "print(\"El algoritmo para el ejemplo 1 tomó\",secs_1,\"segundos\" )"
   ]
  },
  {
   "cell_type": "markdown",
   "metadata": {
    "tags": []
   },
   "source": [
    "# Ejemplo 2\n",
    "Seguimos con un ejemplo de menor escala que trata sobre el transporte de personas en una empresa de autobúses"
   ]
  },
  {
   "cell_type": "code",
   "execution_count": 5,
   "metadata": {
    "tags": [
     "block:read2"
    ]
   },
   "outputs": [],
   "source": [
    "d2 = [[0,188,240,160,0,0,0,0,0,0,0,0,0],\n",
    "                    [0,0,0,0,170,0,0,0,0,0,0,0,0],\n",
    "                    [0,0,0,0,0,0,210,180,0,0,0,0,0],\n",
    "                    [0,0,0,0,0,140,0,0,0,0,0,0,0],\n",
    "                    [0,0,0,0,0,0,0,0,0,130,90,0,0],\n",
    "                    [0,0,0,0,0,0,0,0,130,0,0,0,0],\n",
    "                    [0,0,0,0,0,0,0,0,150,0,0,0,0],\n",
    "                    [0,0,0,0,0,0,0,0,0,0,0,160,0],\n",
    "                    [0,0,0,0,0,0,0,0,0,0,0,0,210],\n",
    "                    [0,0,0,0,0,0,0,0,0,0,0,0,110],\n",
    "                    [0,0,0,0,0,0,0,0,0,0,0,0,80],\n",
    "                    [0,0,0,0,0,0,0,0,0,0,0,0,170],\n",
    "                    [0,0,0,0,0,0,0,0,0,0,0,0,0]]\n",
    "arreglo2 = d2"
   ]
  },
  {
   "cell_type": "code",
   "execution_count": 6,
   "metadata": {
    "tags": [
     "block:mf2",
     "prev:read2"
    ]
   },
   "outputs": [
    {
     "name": "stdout",
     "output_type": "stream",
     "text": [
      "CPU times: user 2 µs, sys: 0 ns, total: 2 µs\n",
      "Wall time: 4.53 µs\n",
      "maximun flow is 540\n",
      "The maximum flow in this network is 540\n"
     ]
    }
   ],
   "source": [
    "%time\n",
    "start_time = time.time()\n",
    "MF2=MaxFlowAeiu(arreglo2)\n",
    "MF2.ford_fulkerson()\n",
    "print(\"The maximum flow in this network is {}\".format(MF2.get_maximumflow()))\n",
    "end_time = time.time()"
   ]
  },
  {
   "cell_type": "code",
   "execution_count": 7,
   "metadata": {
    "tags": [
     "block:time2",
     "prev:mf2"
    ]
   },
   "outputs": [
    {
     "name": "stdout",
     "output_type": "stream",
     "text": [
      "El algoritmo para el ejemplo 2 tomó 0.0005862712860107422 segundos\n"
     ]
    }
   ],
   "source": [
    "secs_2 = end_time-start_time\n",
    "print(\"El algoritmo para el ejemplo 2 tomó\",secs_2,\"segundos\" )"
   ]
  },
  {
   "cell_type": "markdown",
   "metadata": {
    "tags": []
   },
   "source": [
    "## Ejemplo 3\n",
    "Ahora probaremos con una matriz más grande sobre el transporte de pasajeros en aerolíneas en Estados Unidos"
   ]
  },
  {
   "cell_type": "code",
   "execution_count": 8,
   "metadata": {
    "tags": [
     "block:read3"
    ]
   },
   "outputs": [],
   "source": [
    "d3=pd.read_csv(\"https://raw.githubusercontent.com/sid-7/Airline_Maximum_Flow/master/flights.csv\")\n",
    "d3=d3.drop(['Unnamed: 0', 'Depature', 'Arrival'], axis=1)\n",
    "d3=d3.groupby(['Source', 'Destination'], as_index=False)['capacity'].sum()\n",
    "d3['capacity'] = pd.to_numeric(d3['capacity'], errors='coerce')\n",
    "new_row = pd.DataFrame([['JFK','JFK', 0], ['LAX','LAX', 0]],\n",
    "                   columns=['Source', 'Destination', 'capacity'])\n",
    "d3 = pd.concat([d3, new_row])\n",
    "d3 = d3.pivot(index=\"Source\", columns=\"Destination\", values=\"capacity\").fillna(0)\n",
    "column_to_move1 = d3.pop(\"LAX\")\n",
    "column_to_move2 = d3.pop(\"JFK\")\n",
    "d3.insert(0, \"LAX\", column_to_move1)\n",
    "d3.insert(9, \"JFK\", column_to_move2)\n",
    "t1 = ['JFK','LAX']\n",
    "t2 = ['JFK']\n",
    "t3 = ['LAX']\n",
    "\n",
    "a = d3.loc[[i for i in d3.index if i not in t1], :]\n",
    "b = d3.loc[t2, :]\n",
    "c = d3.loc[t3, :]\n",
    "\n",
    "d3=pd.concat([c, a, b])\n",
    "arreglo3 = d3.values.tolist()"
   ]
  },
  {
   "cell_type": "code",
   "execution_count": 9,
   "metadata": {
    "tags": [
     "block:mf3",
     "prev:read3"
    ]
   },
   "outputs": [
    {
     "name": "stdout",
     "output_type": "stream",
     "text": [
      "CPU times: user 2 µs, sys: 1 µs, total: 3 µs\n",
      "Wall time: 4.77 µs\n",
      "maximun flow is 6427\n",
      "The maximum flow in this network is 6427\n"
     ]
    }
   ],
   "source": [
    "%time\n",
    "start_time = time.time()\n",
    "MF3=MaxFlowAeiu(arreglo3)\n",
    "MF3.ford_fulkerson()\n",
    "print(\"The maximum flow in this network is {}\".format(MF3.get_maximumflow()))\n",
    "end_time = time.time()"
   ]
  },
  {
   "cell_type": "code",
   "execution_count": 10,
   "metadata": {
    "tags": [
     "block:time3",
     "prev:mf3"
    ]
   },
   "outputs": [
    {
     "name": "stdout",
     "output_type": "stream",
     "text": [
      "El algoritmo para el ejemplo 3 tomó 0.0005733966827392578 segundos\n"
     ]
    }
   ],
   "source": [
    "secs_3 = end_time-start_time\n",
    "print(\"El algoritmo para el ejemplo 3 tomó\",secs_3,\"segundos\" )"
   ]
  },
  {
   "cell_type": "markdown",
   "metadata": {
    "tags": []
   },
   "source": [
    "## Ejemplo 4\n",
    "Ahora usaremos una matriz mucho más grande"
   ]
  },
  {
   "cell_type": "code",
   "execution_count": 16,
   "metadata": {
    "tags": [
     "block:par4"
    ]
   },
   "outputs": [],
   "source": [
    "# Especificar el tamaño de la red n = número de nodos, m = número de ramas\n",
    "n = 1000\n",
    "m = 5000\n",
    "network = nx.gnm_random_graph(n, m, directed=True)\n",
    "nodos = list(network.nodes)\n",
    "ramas = list(network.edges)\n",
    "# Crear arreglos de: nodo de envío, nodo de recepción y capacidad del enlace\n",
    "env = []\n",
    "rec = []\n",
    "cap = []\n",
    "for i in range(len(ramas)):\n",
    "    env.append(ramas[i][0])\n",
    "    rec.append(ramas[i][1])\n",
    "    cap.append(random.randint(20,100)) # La capacidad del enlace se determinade forma aleatoria con valores entre 20 y 100"
   ]
  },
  {
   "cell_type": "code",
   "execution_count": 17,
   "metadata": {
    "tags": [
     "block:read4",
     "prev:par4"
    ]
   },
   "outputs": [],
   "source": [
    "# Se crea el data frame o matriz de incidencias de los nodos. Se asegura que el nodo fuente sea el 0 y solo tenga ramas saliendo de él y que el último nodo solo tenga ramas entrando (sumidero)\n",
    "d4 = pd.DataFrame(0, index=list(range(0,len(nodos))), columns=list(range(0,len(nodos))))\n",
    "aux = 0\n",
    "for n in env:\n",
    "    if rec[aux] == 0:\n",
    "        d4.iloc[rec[aux],n] = cap[aux]\n",
    "    elif n == max(nodos):\n",
    "        d4.iloc[rec[aux],n] = cap[aux]\n",
    "    else:\n",
    "        d4.iloc[n,rec[aux]] = cap[aux]\n",
    "    aux += 1"
   ]
  },
  {
   "cell_type": "code",
   "execution_count": 18,
   "metadata": {
    "tags": [
     "block:ls4",
     "prev:read4"
    ]
   },
   "outputs": [],
   "source": [
    "arreglo4 = d4.values.tolist()"
   ]
  },
  {
   "cell_type": "code",
   "execution_count": 19,
   "metadata": {
    "tags": [
     "block:mf4",
     "prev:ls4"
    ]
   },
   "outputs": [
    {
     "name": "stdout",
     "output_type": "stream",
     "text": [
      "CPU times: user 3 µs, sys: 0 ns, total: 3 µs\n",
      "Wall time: 4.77 µs\n",
      "maximun flow is 393\n",
      "The maximum flow in this network is 393\n"
     ]
    }
   ],
   "source": [
    "%time\n",
    "start_time = time.time()\n",
    "MF4=MaxFlowAeiu(arreglo4)\n",
    "MF4.ford_fulkerson()\n",
    "print(\"The maximum flow in this network is {}\".format(MF4.get_maximumflow()))\n",
    "end_time = time.time()"
   ]
  },
  {
   "cell_type": "code",
   "execution_count": 20,
   "metadata": {
    "tags": [
     "block:time4",
     "prev:mf4"
    ]
   },
   "outputs": [
    {
     "name": "stdout",
     "output_type": "stream",
     "text": [
      "El algoritmo para el ejemplo 4 tomó 67.02914547920227 segundos\n"
     ]
    }
   ],
   "source": [
    "secs_4 = end_time-start_time\n",
    "print(\"El algoritmo para el ejemplo 4 tomó\",secs_4,\"segundos\" )"
   ]
  },
  {
   "cell_type": "markdown",
   "metadata": {
    "tags": []
   },
   "source": [
    "## Reporte de resultados\n",
    "\n",
    "La realización de estos 4 ejercicios se hizo en un ambiente virtual (instancia de AWS) con las herramientas de Kale, Minikube y Kubeflow. En la siguiente imagen se muestra el pipeline ejecutado con los cuatro ejemplos corriendo de manera satisfactoria:"
   ]
  },
  {
   "cell_type": "markdown",
   "metadata": {
    "tags": []
   },
   "source": [
    "<p align = \"center\">\n",
    "    <img src=\"images/kale_flow.png\" width=\"1329\" height=\"911\" />"
   ]
  },
  {
   "cell_type": "markdown",
   "metadata": {
    "tags": []
   },
   "source": [
    "Adicionalmente se realizó la misma ejecución de los 4 ejercicios, pero en el ambiente virtual generado para este repositorio desde la funcionalidad de _Binder_. En la siguiente tabla se muestran los resultados obtenidos en ambas ejecuciones:"
   ]
  },
  {
   "cell_type": "code",
   "execution_count": 16,
   "metadata": {
    "tags": [
     "skip"
    ]
   },
   "outputs": [
    {
     "data": {
      "text/html": [
       "<div>\n",
       "<style scoped>\n",
       "    .dataframe tbody tr th:only-of-type {\n",
       "        vertical-align: middle;\n",
       "    }\n",
       "\n",
       "    .dataframe tbody tr th {\n",
       "        vertical-align: top;\n",
       "    }\n",
       "\n",
       "    .dataframe thead th {\n",
       "        text-align: right;\n",
       "    }\n",
       "</style>\n",
       "<table border=\"1\" class=\"dataframe\">\n",
       "  <thead>\n",
       "    <tr style=\"text-align: right;\">\n",
       "      <th></th>\n",
       "      <th>Experimento</th>\n",
       "      <th>Tamaño_Red</th>\n",
       "      <th>Nodos</th>\n",
       "      <th>Ramas</th>\n",
       "      <th>Flujo_Max</th>\n",
       "      <th>Exitoso</th>\n",
       "      <th>CPU_Time_(ms)</th>\n",
       "      <th>Wall_Time_(ms)</th>\n",
       "      <th>Fecha</th>\n",
       "      <th>Instancia</th>\n",
       "    </tr>\n",
       "  </thead>\n",
       "  <tbody>\n",
       "    <tr>\n",
       "      <th>0</th>\n",
       "      <td>1</td>\n",
       "      <td>Mediana</td>\n",
       "      <td>44</td>\n",
       "      <td>61</td>\n",
       "      <td>1480</td>\n",
       "      <td>Si</td>\n",
       "      <td>4.650</td>\n",
       "      <td>7.6800</td>\n",
       "      <td>22-04-2022</td>\n",
       "      <td>AWS</td>\n",
       "    </tr>\n",
       "    <tr>\n",
       "      <th>1</th>\n",
       "      <td>1</td>\n",
       "      <td>Mediana</td>\n",
       "      <td>44</td>\n",
       "      <td>61</td>\n",
       "      <td>1480</td>\n",
       "      <td>Si</td>\n",
       "      <td>0.007</td>\n",
       "      <td>0.0141</td>\n",
       "      <td>23-04-2022</td>\n",
       "      <td>Binder</td>\n",
       "    </tr>\n",
       "    <tr>\n",
       "      <th>2</th>\n",
       "      <td>2</td>\n",
       "      <td>Pequeña</td>\n",
       "      <td>13</td>\n",
       "      <td>16</td>\n",
       "      <td>540</td>\n",
       "      <td>Si</td>\n",
       "      <td>3.370</td>\n",
       "      <td>3.1500</td>\n",
       "      <td>22-04-2022</td>\n",
       "      <td>AWS</td>\n",
       "    </tr>\n",
       "    <tr>\n",
       "      <th>3</th>\n",
       "      <td>2</td>\n",
       "      <td>Pequeña</td>\n",
       "      <td>13</td>\n",
       "      <td>16</td>\n",
       "      <td>540</td>\n",
       "      <td>Si</td>\n",
       "      <td>0.006</td>\n",
       "      <td>0.0119</td>\n",
       "      <td>23-04-2022</td>\n",
       "      <td>Binder</td>\n",
       "    </tr>\n",
       "    <tr>\n",
       "      <th>4</th>\n",
       "      <td>3</td>\n",
       "      <td>Pequeña</td>\n",
       "      <td>10</td>\n",
       "      <td>72</td>\n",
       "      <td>6427</td>\n",
       "      <td>Si</td>\n",
       "      <td>7.510</td>\n",
       "      <td>5.6200</td>\n",
       "      <td>22-04-2022</td>\n",
       "      <td>AWS</td>\n",
       "    </tr>\n",
       "    <tr>\n",
       "      <th>5</th>\n",
       "      <td>3</td>\n",
       "      <td>Pequeña</td>\n",
       "      <td>10</td>\n",
       "      <td>72</td>\n",
       "      <td>6427</td>\n",
       "      <td>Si</td>\n",
       "      <td>0.007</td>\n",
       "      <td>0.0129</td>\n",
       "      <td>23-04-2022</td>\n",
       "      <td>Binder</td>\n",
       "    </tr>\n",
       "    <tr>\n",
       "      <th>6</th>\n",
       "      <td>4</td>\n",
       "      <td>Grande</td>\n",
       "      <td>1000</td>\n",
       "      <td>5000</td>\n",
       "      <td>643</td>\n",
       "      <td>Si</td>\n",
       "      <td>26000.000</td>\n",
       "      <td>26000.0000</td>\n",
       "      <td>22-04-2022</td>\n",
       "      <td>AWS</td>\n",
       "    </tr>\n",
       "    <tr>\n",
       "      <th>7</th>\n",
       "      <td>4</td>\n",
       "      <td>Grande</td>\n",
       "      <td>1000</td>\n",
       "      <td>5000</td>\n",
       "      <td>513</td>\n",
       "      <td>Si</td>\n",
       "      <td>0.006</td>\n",
       "      <td>0.0122</td>\n",
       "      <td>23-04-2022</td>\n",
       "      <td>Binder</td>\n",
       "    </tr>\n",
       "  </tbody>\n",
       "</table>\n",
       "</div>"
      ],
      "text/plain": [
       "   Experimento Tamaño_Red  Nodos  Ramas  Flujo_Max Exitoso  CPU_Time_(ms)  \\\n",
       "0            1    Mediana     44     61       1480      Si          4.650   \n",
       "1            1    Mediana     44     61       1480      Si          0.007   \n",
       "2            2    Pequeña     13     16        540      Si          3.370   \n",
       "3            2    Pequeña     13     16        540      Si          0.006   \n",
       "4            3    Pequeña     10     72       6427      Si          7.510   \n",
       "5            3    Pequeña     10     72       6427      Si          0.007   \n",
       "6            4     Grande   1000   5000        643      Si      26000.000   \n",
       "7            4     Grande   1000   5000        513      Si          0.006   \n",
       "\n",
       "   Wall_Time_(ms)       Fecha Instancia  \n",
       "0          7.6800  22-04-2022       AWS  \n",
       "1          0.0141  23-04-2022    Binder  \n",
       "2          3.1500  22-04-2022       AWS  \n",
       "3          0.0119  23-04-2022    Binder  \n",
       "4          5.6200  22-04-2022       AWS  \n",
       "5          0.0129  23-04-2022    Binder  \n",
       "6      26000.0000  22-04-2022       AWS  \n",
       "7          0.0122  23-04-2022    Binder  "
      ]
     },
     "execution_count": 16,
     "metadata": {},
     "output_type": "execute_result"
    }
   ],
   "source": [
    "# Cambiar esta tabla\n",
    "results = {\n",
    "    'Experimento' : [1, 1, 2, 2, 3, 3, 4, 4],\n",
    "    'Tamaño_Red': [\"Mediana\", \"Mediana\", \"Pequeña\", \"Pequeña\", \"Pequeña\", \"Pequeña\", \"Grande\", \"Grande\" ],\n",
    "    'Nodos': [44, 44, 13, 13, 10, 10, 1000, 1000],\n",
    "    'Ramas': [61, 61, 16, 16, 72, 72, 5000, 5000],\n",
    "    'Flujo_Max': [1480, 1480, 540, 540, 6427, 6427, 643, 513],\n",
    "    'Exitoso': ['Si', 'Si', 'Si', 'Si', 'Si', 'Si', 'Si', 'Si'],\n",
    "    'CPU_Time_(ms)': [4.65, 7e-3, 3.37, 6e-3, 7.51, 7e-3, 26e3, 6e-3],\n",
    "    'Wall_Time_(ms)': [7.68, 14.1e-3, 3.15, 11.9e-3, 5.62, 12.9e-3, 26e3, 12.2e-3],\n",
    "    'Fecha': [\"22-04-2022\", \"23-04-2022\", \"22-04-2022\", \"23-04-2022\", \"22-04-2022\", \"23-04-2022\", \"22-04-2022\", \"23-04-2022\"],\n",
    "    'Instancia': [\"AWS\", \"Binder\", \"AWS\", \"Binder\", \"AWS\", \"Binder\", \"AWS\", \"Binder\"]\n",
    "}\n",
    "r = pd.DataFrame(results)\n",
    "r"
   ]
  },
  {
   "cell_type": "markdown",
   "metadata": {
    "tags": []
   },
   "source": [
    "Así mismo, comparamos los 4 ejemplos con la tabla de la práctica anterior para comparar los tiempos:"
   ]
  },
  {
   "cell_type": "code",
   "execution_count": 21,
   "metadata": {
    "tags": [
     "skip"
    ]
   },
   "outputs": [
    {
     "data": {
      "text/html": [
       "<div>\n",
       "<style scoped>\n",
       "    .dataframe tbody tr th:only-of-type {\n",
       "        vertical-align: middle;\n",
       "    }\n",
       "\n",
       "    .dataframe tbody tr th {\n",
       "        vertical-align: top;\n",
       "    }\n",
       "\n",
       "    .dataframe thead th {\n",
       "        text-align: right;\n",
       "    }\n",
       "</style>\n",
       "<table border=\"1\" class=\"dataframe\">\n",
       "  <thead>\n",
       "    <tr style=\"text-align: right;\">\n",
       "      <th></th>\n",
       "      <th>Experimento</th>\n",
       "      <th>Tamaño_Red</th>\n",
       "      <th>Nodos</th>\n",
       "      <th>Ramas</th>\n",
       "      <th>Flujo_Max</th>\n",
       "      <th>Exitoso</th>\n",
       "      <th>CPU_Time_(ms)</th>\n",
       "      <th>Wall_Time_(ms)</th>\n",
       "      <th>Fecha</th>\n",
       "      <th>Instancia</th>\n",
       "    </tr>\n",
       "  </thead>\n",
       "  <tbody>\n",
       "    <tr>\n",
       "      <th>0</th>\n",
       "      <td>1</td>\n",
       "      <td>Mediana</td>\n",
       "      <td>44</td>\n",
       "      <td>61</td>\n",
       "      <td>1480</td>\n",
       "      <td>Si</td>\n",
       "      <td>0.002</td>\n",
       "      <td>0.00477</td>\n",
       "      <td>22-05-2022</td>\n",
       "      <td>AWS</td>\n",
       "    </tr>\n",
       "    <tr>\n",
       "      <th>1</th>\n",
       "      <td>1</td>\n",
       "      <td>Mediana</td>\n",
       "      <td>44</td>\n",
       "      <td>61</td>\n",
       "      <td>1480</td>\n",
       "      <td>Si</td>\n",
       "      <td>0.000</td>\n",
       "      <td>0.00000</td>\n",
       "      <td>23-05-2022</td>\n",
       "      <td>Binder</td>\n",
       "    </tr>\n",
       "    <tr>\n",
       "      <th>2</th>\n",
       "      <td>2</td>\n",
       "      <td>Pequeña</td>\n",
       "      <td>13</td>\n",
       "      <td>16</td>\n",
       "      <td>540</td>\n",
       "      <td>Si</td>\n",
       "      <td>0.002</td>\n",
       "      <td>0.00453</td>\n",
       "      <td>22-05-2022</td>\n",
       "      <td>AWS</td>\n",
       "    </tr>\n",
       "    <tr>\n",
       "      <th>3</th>\n",
       "      <td>2</td>\n",
       "      <td>Pequeña</td>\n",
       "      <td>13</td>\n",
       "      <td>16</td>\n",
       "      <td>540</td>\n",
       "      <td>Si</td>\n",
       "      <td>0.000</td>\n",
       "      <td>0.00000</td>\n",
       "      <td>23-05-2022</td>\n",
       "      <td>Binder</td>\n",
       "    </tr>\n",
       "    <tr>\n",
       "      <th>4</th>\n",
       "      <td>3</td>\n",
       "      <td>Pequeña</td>\n",
       "      <td>10</td>\n",
       "      <td>72</td>\n",
       "      <td>6427</td>\n",
       "      <td>Si</td>\n",
       "      <td>0.003</td>\n",
       "      <td>0.00477</td>\n",
       "      <td>22-05-2022</td>\n",
       "      <td>AWS</td>\n",
       "    </tr>\n",
       "    <tr>\n",
       "      <th>5</th>\n",
       "      <td>3</td>\n",
       "      <td>Pequeña</td>\n",
       "      <td>10</td>\n",
       "      <td>72</td>\n",
       "      <td>6427</td>\n",
       "      <td>Si</td>\n",
       "      <td>0.000</td>\n",
       "      <td>0.00000</td>\n",
       "      <td>23-05-2022</td>\n",
       "      <td>Binder</td>\n",
       "    </tr>\n",
       "    <tr>\n",
       "      <th>6</th>\n",
       "      <td>4</td>\n",
       "      <td>Grande</td>\n",
       "      <td>1000</td>\n",
       "      <td>5000</td>\n",
       "      <td>643</td>\n",
       "      <td>Si</td>\n",
       "      <td>0.003</td>\n",
       "      <td>0.00477</td>\n",
       "      <td>22-05-2022</td>\n",
       "      <td>AWS</td>\n",
       "    </tr>\n",
       "    <tr>\n",
       "      <th>7</th>\n",
       "      <td>4</td>\n",
       "      <td>Grande</td>\n",
       "      <td>1000</td>\n",
       "      <td>5000</td>\n",
       "      <td>513</td>\n",
       "      <td>Si</td>\n",
       "      <td>0.000</td>\n",
       "      <td>0.00000</td>\n",
       "      <td>23-05-2022</td>\n",
       "      <td>Binder</td>\n",
       "    </tr>\n",
       "  </tbody>\n",
       "</table>\n",
       "</div>"
      ],
      "text/plain": [
       "   Experimento Tamaño_Red  Nodos  Ramas  Flujo_Max Exitoso  CPU_Time_(ms)  \\\n",
       "0            1    Mediana     44     61       1480      Si          0.002   \n",
       "1            1    Mediana     44     61       1480      Si          0.000   \n",
       "2            2    Pequeña     13     16        540      Si          0.002   \n",
       "3            2    Pequeña     13     16        540      Si          0.000   \n",
       "4            3    Pequeña     10     72       6427      Si          0.003   \n",
       "5            3    Pequeña     10     72       6427      Si          0.000   \n",
       "6            4     Grande   1000   5000        643      Si          0.003   \n",
       "7            4     Grande   1000   5000        513      Si          0.000   \n",
       "\n",
       "   Wall_Time_(ms)       Fecha Instancia  \n",
       "0         0.00477  22-05-2022       AWS  \n",
       "1         0.00000  23-05-2022    Binder  \n",
       "2         0.00453  22-05-2022       AWS  \n",
       "3         0.00000  23-05-2022    Binder  \n",
       "4         0.00477  22-05-2022       AWS  \n",
       "5         0.00000  23-05-2022    Binder  \n",
       "6         0.00477  22-05-2022       AWS  \n",
       "7         0.00000  23-05-2022    Binder  "
      ]
     },
     "execution_count": 21,
     "metadata": {},
     "output_type": "execute_result"
    }
   ],
   "source": [
    "# Tabla anterior, no cambiar\n",
    "results = {\n",
    "    'Experimento' : [1, 1, 2, 2, 3, 3, 4, 4],\n",
    "    'Tamaño_Red': [\"Mediana\", \"Mediana\", \"Pequeña\", \"Pequeña\", \"Pequeña\", \"Pequeña\", \"Grande\", \"Grande\" ],\n",
    "    'Nodos': [44, 44, 13, 13, 10, 10, 1000, 1000],\n",
    "    'Ramas': [61, 61, 16, 16, 72, 72, 5000, 5000],\n",
    "    'Flujo_Max': [1480, 1480, 540, 540, 6427, 6427, 643, 513],\n",
    "    'Exitoso': ['Si', 'Si', 'Si', 'Si', 'Si', 'Si', 'Si', 'Si'],\n",
    "    'CPU_Time_(ms)': [2e-3, 11e-3, 2e-3, 11e-3, 3e-3, 11e-3, 3e-3, 11e-3],\n",
    "    'Wall_Time_(ms)': [4.77e-3, 21.7e-3, 4.53e-3, 21.2e-3, 4.77e-3, 21.5e-3, 4.77e-3, 22.2e-3],\n",
    "    'Fecha': [\"22-05-2022\", \"23-05-2022\", \"22-05-2022\", \"23-05-2022\", \"22-05-2022\", \"23-05-2022\", \"22-05-2022\", \"23-05-2022\"],\n",
    "    'Instancia': [\"AWS\", \"Binder\", \"AWS\", \"Binder\", \"AWS\", \"Binder\", \"AWS\", \"Binder\"]\n",
    "}\n",
    "r = pd.DataFrame(results)\n",
    "r"
   ]
  },
  {
   "cell_type": "markdown",
   "id": "ebcfca86",
   "metadata": {},
   "source": [
    "### Características de las instancias\n",
    "\n",
    "---\n",
    "\n",
    "**BINDER**\n",
    "\n",
    "```\n",
    "Architecture:        x86_64\n",
    "CPU op-mode(s):      32-bit, 64-bit\n",
    "Byte Order:          Little Endian\n",
    "CPU(s):              72\n",
    "On-line CPU(s) list: 0-71\n",
    "Thread(s) per core:  2\n",
    "Core(s) per socket:  18\n",
    "Socket(s):           2\n",
    "NUMA node(s):        2\n",
    "Vendor ID:           GenuineIntel\n",
    "CPU family:          6\n",
    "Model:               85\n",
    "Model name:          Intel(R) Xeon(R) Gold 6140 CPU @ 2.30GHz\n",
    "Stepping:            4\n",
    "CPU MHz:             1000.015\n",
    "CPU max MHz:         2300.0000\n",
    "CPU min MHz:         1000.0000\n",
    "BogoMIPS:            4600.00\n",
    "Virtualization:      VT-x\n",
    "L1d cache:           32K\n",
    "L1i cache:           32K\n",
    "L2 cache:            1024K\n",
    "L3 cache:            25344K\n",
    "```\n",
    "---\n",
    "\n",
    "**AWS**\n",
    "\n"
   ]
  },
  {
   "cell_type": "markdown",
   "metadata": {
    "tags": []
   },
   "source": [
    "## Conclusiones\n",
    "\n",
    "Podemos observar una clara mejoría en la ejecución de todos nuestros ejemplos gracias a la implementación que hicimos usando Cython, en el experimento ejecutado en la instancia de AWS con una máquina `tipo de máquina` vemos que el desempeño de nuestro algoritmo da muy buenos resultados en cuanto a tiempo de ejecución. \n",
    "\n"
   ]
  },
  {
   "cell_type": "markdown",
   "metadata": {
    "tags": []
   },
   "source": [
    "## Referencias\n",
    "* [1] [Palacios E. (2022) Libro de Optimización](https://itam-ds.github.io/analisis-numerico-computo-cientifico/4.optimizacion_en_redes_y_prog_lineal/4.2/Definiciones_generales_de_flujo_en_redes.html)\n",
    "* [2] [Dumora c. el all. Data Oriented Algorithm for Real Time Estimation of Flow Rates and Flow Directions in Water Distribution Network](https://arxiv.org/pdf/1807.10147.pdf)\n",
    "* [3] [Max Flow Problem Introduction](https://www.geeksforgeeks.org/max-flow-problem-introduction/)\n",
    "* [4] [Ford-Fulkerson Algorithm](https://www.programiz.com/dsa/ford-fulkerson-algorithm)\n",
    "* [5] [Algoritmo de Ford-Fulkerson - Ford–Fulkerson algorithm](https://upwikies.top/wiki/Ford%e2%80%93Fulkerson_algorithm)\n",
    "* [6] [Oviedo J. (2008) Algoritmo de Ford-Fulkerson Mejorado](http://www.ptolomeo.unam.mx:8080/jspui/bitstream/132.248.52.100/2387/1/gonzalezoviedo.pdf)\n",
    "* [7] [Building a Smarter (and Cheaper) School Bus System: How a Boston-MIT Partnership Led to New Routes That Are 20% More Efficient and Saved the District $5 Million](https://www.the74million.org/article/building-a-smarter-and-cheaper-school-bus-system-how-a-boston-mit-partnership-led-to-new-routes-that-are-20-more-efficient-use-400-fewer-buses-save-5-million/)\n",
    "* [8] [Optimazation examples](https://vitalflux.com/convex-optimization-explained-concepts-examples/)\n",
    "* [9] [Breadth First Search or BFS for a Graph](https://www.geeksforgeeks.org/breadth-first-search-or-bfs-for-a-graph/)\n",
    "* [10] [Create your own Python package and publish it into PyPI](https://towardsdatascience.com/create-your-own-python-package-and-publish-it-into-pypi-9306a29bc116)\n",
    "* [11] [Speeding up Python code with Cython](https://smirnov-am.github.io/cython/)\n",
    "* [12] [Cython’s Documentation](http://docs.cython.org/en/latest/index.html)"
   ]
  }
 ],
 "metadata": {
  "kernelspec": {
   "display_name": "Python 3 (ipykernel)",
   "language": "python",
   "name": "python3"
  },
  "kubeflow_notebook": {
   "autosnapshot": false,
   "docker_image": "sancas96/docker_t2:0.1",
   "experiment": {
    "id": "new",
    "name": "probandotiempo"
   },
   "experiment_name": "probandotiempo",
   "katib_metadata": {
    "algorithm": {
     "algorithmName": "grid"
    },
    "maxFailedTrialCount": 3,
    "maxTrialCount": 12,
    "objective": {
     "objectiveMetricName": "",
     "type": "minimize"
    },
    "parallelTrialCount": 3,
    "parameters": []
   },
   "katib_run": false,
   "pipeline_description": "testing_mfaeiu_v2",
   "pipeline_name": "prueba2",
   "snapshot_volumes": false,
   "steps_defaults": [],
   "volume_access_mode": "rwm",
   "volumes": []
  },
  "language_info": {
   "codemirror_mode": {
    "name": "ipython",
    "version": 3
   },
   "file_extension": ".py",
   "mimetype": "text/x-python",
   "name": "python",
   "nbconvert_exporter": "python",
   "pygments_lexer": "ipython3",
   "version": "3.8.10"
  }
 },
 "nbformat": 4,
 "nbformat_minor": 5
}
