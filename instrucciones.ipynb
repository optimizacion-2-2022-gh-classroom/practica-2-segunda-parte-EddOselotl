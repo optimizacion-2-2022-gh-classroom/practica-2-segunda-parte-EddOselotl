{
 "cells": [
  {
   "cell_type": "markdown",
   "id": "6e34a438-f20e-4e0c-84d9-bc52ef18e195",
   "metadata": {},
   "source": [
    "El objetivo de las prácticas 1 y 2 es revisar problemas de optimización convexa* que les vayan apoyando/guiando al desarrollo de su práctica/trabajo final.\n",
    "\n",
    "\\***¿Por qué optimización convexa?**\n",
    "\n",
    "En el curso no creo que dé tiempo para que revisemos la no convexa (quizás una clase... pero ya no habrá prácticas más que la final). Si gustan pueden ir al terreno no convexo pero les sugiero lo consultemos primero si es el caso para no complicar demasiado su práctica/trabajo final.\n",
    "\n",
    "**Se utilizará la nube de AWS para esta parte**.\n"
   ]
  },
  {
   "cell_type": "markdown",
   "id": "9f23108f-34d1-43c0-a4d3-068ebe7f0451",
   "metadata": {},
   "source": [
    "# Práctica 1"
   ]
  },
  {
   "cell_type": "markdown",
   "id": "a4847133-b6da-4d75-b9e3-2c1a3b1827d5",
   "metadata": {},
   "source": [
    "**Ya entregada :)**"
   ]
  },
  {
   "cell_type": "markdown",
   "id": "136633ba-5ec6-49b1-b8dc-8c3960ac8b83",
   "metadata": {
    "tags": []
   },
   "source": [
    "# Práctica 2"
   ]
  },
  {
   "cell_type": "markdown",
   "id": "88d1183e-a76b-4471-a647-00bd8db631b1",
   "metadata": {},
   "source": [
    "## Primera parte"
   ]
  },
  {
   "cell_type": "markdown",
   "id": "63e2aacc-b083-44c2-b1b2-7f680e748c93",
   "metadata": {},
   "source": [
    "**Ya entregada :)**"
   ]
  },
  {
   "cell_type": "markdown",
   "id": "00d57c3a-e606-45c5-8791-091ead7d37f6",
   "metadata": {
    "tags": []
   },
   "source": [
    "## Segunda parte"
   ]
  },
  {
   "cell_type": "markdown",
   "id": "b6631bfa-4340-4e0d-9a40-2c048d378ae8",
   "metadata": {},
   "source": [
    "**Descripción:** Reimplementar su método numérico realizado en la práctica 1 con niveles de BLAS, cómputo en paralelo (CPU/GPU), con compilación a C (por ejemplo vía [cython](https://cython.org/), [rcpp](http://www.rcpp.org/)) o [julia](https://julialang.org/) guiándose del perfilamiento de memoria, uso de procesador o tiempo de ejecución de su paquete.\n",
    "\n",
    "Para realizar la reimplementación anterior a continuación coloco una lista de paquetes que les apoyarán (no es exhaustiva). Piensen por ejemplo que el método símplex y el método primal-dual requieren de resolver sistemas de ecuaciones lineales para resolver los problemas de optimización, entonces podrán usar algún paquete de cómputo en paralelo para resolver tal sistema."
   ]
  },
  {
   "cell_type": "markdown",
   "id": "fb1a88f3-6716-4a0c-9f7d-fc5a6f6e885e",
   "metadata": {},
   "source": [
    "* [pytorch](https://github.com/pytorch/pytorch)\n",
    "\n",
    "* [gpuR](https://github.com/cdeterman/gpuR)\n",
    "\n",
    "* [gputools](https://rdrr.io/cran/gputools/)\n",
    "\n",
    "* [Rth-org/Rth](https://github.com/Rth-org/Rth) y más reciente [matloff/Rth](https://github.com/matloff/Rth)\n",
    "\n",
    "* [Theano](https://github.com/Theano/Theano), [pymc3](https://github.com/pymc-devs/pymc3)\n",
    "\n",
    "* [PyCUDA](https://github.com/inducer/pycuda)\n",
    "\n",
    "* [CuPy](https://github.com/cupy/cupy)\n",
    "\n",
    "* [dask](https://github.com/dask/dask)\n",
    "\n",
    "* [dask CUDA](https://github.com/rapidsai/dask-cuda), [Rapids](https://rapids.ai/)\n",
    "\n",
    "* [multiprocessing](https://docs.python.org/3.1/library/multiprocessing.html)\n",
    "\n",
    "* [joblib](https://joblib.readthedocs.io/en/latest/)\n",
    "\n",
    "* [openMP](http://www.openmp.org/)\n",
    "\n",
    "* [parallel](https://www.rdocumentation.org/packages/parallel/versions/3.6.2)\n",
    "\n",
    "* [foreach](https://www.rdocumentation.org/packages/foreach/versions/1.4.7/topics/foreach)\n",
    "\n",
    "* [CUDA-C](https://docs.nvidia.com/cuda/cuda-c-programming-guide/index.html)\n",
    "\n",
    "* [tensorflow](https://github.com/tensorflow)\n",
    "\n",
    "* [keras](https://github.com/keras-team/keras)\n",
    "\n",
    "* [caffe](https://github.com/BVLC/caffe)\n",
    "\n",
    "* [mxnet](https://github.com/apache/incubator-mxnet)\n"
   ]
  },
  {
   "cell_type": "markdown",
   "id": "c8641799-fc8d-4ce6-a2c1-21844fbda379",
   "metadata": {},
   "source": [
    "## ¿Qué hay que entregar/mostrar?"
   ]
  },
  {
   "cell_type": "markdown",
   "id": "78b39c79-1045-451a-bd21-4edf7bcbc67f",
   "metadata": {},
   "source": [
    "El objetivo es reimplementar los métodos que escribieron en su paquete para hacerlo más eficiente en algún recurso: uso de procesador, memoria o I/O (uds deciden el recurso). Estos cambios de implementación deben de reflejarse automáticamente con *Github Actions* en la documentación del paquete, *tests* y en sus imágenes de *Docker*."
   ]
  },
  {
   "cell_type": "markdown",
   "id": "5d301375-31d1-4dcd-a35a-50710e401270",
   "metadata": {},
   "source": [
    "Para hacer más eficiente los métodos de su paquete deben realizar perfilamiento en instancias de AWS. Incluyan características de la instancia en la que lo realizan. El perfilamiento lo realizan a los códigos que ya robustecieron con la parte 1 de la práctica 2 (minikube, kubeflow y kale). "
   ]
  },
  {
   "cell_type": "markdown",
   "id": "a0a444bb-c52b-4a69-912b-0cc1845a039b",
   "metadata": {},
   "source": [
    "Una vez realizado el perfilamiento deben evaluar qué utilizarán para hacer más eficiente sus métodos:"
   ]
  },
  {
   "cell_type": "markdown",
   "id": "5a3e259b-8cda-470f-9e53-8209a04315f1",
   "metadata": {},
   "source": [
    "* Uso de niveles 2 o 3 de BLAS (preferiblemente nivel 3 de BLAS).\n",
    "\n",
    "* Uso de compilación a C para secciones de su código.\n",
    "\n",
    "* Cómputo en paralelo.\n",
    "\n",
    "* Cómputo concurrente (no lo revisamos en clase pero en la nota 5.1 se dieron referencias de paquetes para realizarlo y lo pueden usar).\n",
    "\n",
    "* Cómputo distribuido. Por ejemplo, si deben procesar x cantidad de archivos una buena propuesta es procesarlos repartiéndolos en un clúster de máquinas. En este caso una tarea adicional que se debe asignar a una persona es el *setup* del clúster. Una referencia para crear un clúster con [dask](https://github.com/dask/dask) es a partir del minuto 15 del [video1](https://www.youtube.com/watch?v=VdLcaz1rIos) y [video2](https://www.youtube.com/watch?v=KGusfdWzP5Q)\n"
   ]
  },
  {
   "cell_type": "markdown",
   "id": "c161e495-75d2-48a9-816a-ee3b74cab7bb",
   "metadata": {},
   "source": [
    "Al menos una de las opciones anteriores **deben usar**.\n",
    "\n",
    "Esta parte 2 utilícenla como preparación para su práctica final. Utilicen los *datasets* que han revisado anteriormente y vayan probando su paquete para el *dataset* que eligieron para su práctica final."
   ]
  },
  {
   "cell_type": "markdown",
   "id": "c0cc8a2f-94eb-41d1-9ab9-37f15aba6d28",
   "metadata": {},
   "source": [
    "Continúen colcando su botón de binder en su `README.md`."
   ]
  },
  {
   "cell_type": "markdown",
   "id": "3b6ceb06-bdb0-4437-ab0f-50d4d22a9325",
   "metadata": {},
   "source": [
    "## Notas aclaratorias"
   ]
  },
  {
   "cell_type": "markdown",
   "id": "4aa63610-8a68-4182-bb5c-181d399ae759",
   "metadata": {},
   "source": [
    "**De su práctica 1 y parte 2 de su práctica 2 deben utilizar los cuatro archivos `.yml`** que crearon para uso de *Github actions*: el que automáticamente actualiza la documentación de su paquete, el que automáticamente construye la imagen de *Docker* y la sube a su cuenta de *DockerHub*, el que automáticamente realiza *testing* para cambios en su paquete, el que automáticamente construye la imagen de *Docker*, la sube a su cuenta de *DockerHub* y utilizan en la identificación de celdas de *Jupyter notebooks* vía *Kale* y monitoreo con *Kubeflow*."
   ]
  },
  {
   "cell_type": "markdown",
   "id": "b4a1cc90-7739-4591-b021-2d69c3a711a3",
   "metadata": {
    "tags": []
   },
   "source": [
    "# Notas para la práctica/trabajo final"
   ]
  },
  {
   "cell_type": "markdown",
   "id": "01eef524-e379-4973-81f8-52d03bc1db1c",
   "metadata": {},
   "source": [
    "Es **muy importante** en cualquier dataset, paquete de software o problema de optimización que elijan para su práctica/trabajo final, se estudie **muy bien** lo siguiente:\n",
    "\n",
    "* ¿Qué características tiene el problema de optimización?\n",
    "\n",
    "* ¿Qué tipo de problema de optimización es?\n",
    "\n",
    "* Entendimiento del método de optimización utilizado (vía una implementación por ejemplo)\n",
    "\n",
    "* ¿Qué métodos existen para resolver el problema de optimización?\n",
    "\n",
    "* ¿Cómo están resolviendo los métodos el problema de optimización?\n",
    "\n"
   ]
  }
 ],
 "metadata": {
  "kernelspec": {
   "display_name": "Python 3 (ipykernel)",
   "language": "python",
   "name": "python3"
  },
  "language_info": {
   "codemirror_mode": {
    "name": "ipython",
    "version": 3
   },
   "file_extension": ".py",
   "mimetype": "text/x-python",
   "name": "python",
   "nbconvert_exporter": "python",
   "pygments_lexer": "ipython3",
   "version": "3.8.10"
  }
 },
 "nbformat": 4,
 "nbformat_minor": 5
}
