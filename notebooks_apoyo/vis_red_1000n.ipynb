{
 "cells": [
  {
   "cell_type": "code",
   "execution_count": 3,
   "metadata": {},
   "outputs": [],
   "source": [
    "import networkx as nx\n",
    "import random\n",
    "import pandas as pd"
   ]
  },
  {
   "cell_type": "code",
   "execution_count": null,
   "metadata": {},
   "outputs": [],
   "source": [
    "\n",
    "n = 1000\n",
    "m = 3000\n",
    "network = nx.gnm_random_graph(n, m, directed=True)\n",
    "nodos = list(network.nodes)\n",
    "ramas = list(network.edges)\n",
    "# Crear arreglos de: nodo de envío, nodo de recepción y capacidad del enlace\n",
    "env = []\n",
    "rec = []\n",
    "cap = []\n",
    "for i in range(len(ramas)):\n",
    "    env.append(ramas[i][0])\n",
    "    rec.append(ramas[i][1])\n",
    "    cap.append(random.randint(20,100)) # La capacidad del enlace se determinade forma aleatoria con \n",
    "                                       # valores entre 20 y 100\n",
    "\n",
    "# Se crea el data frame o matriz de incidencias de los nodos. Se asegura que el nodo fuente sea el 0 \n",
    "# y solo tenga ramas saliendo de él y que el último nodo solo tenga ramas entrando (sumidero)\n",
    "d = pd.DataFrame(0, index=list(range(0,len(nodos))), columns=list(range(0,len(nodos))))\n",
    "aux = 0\n",
    "for n in env:\n",
    "    if rec[aux] == 0:\n",
    "        d.iloc[rec[aux],n] = cap[aux]\n",
    "    elif n == max(nodos):\n",
    "        d.iloc[rec[aux],n] = cap[aux]\n",
    "    else:\n",
    "        d.iloc[n,rec[aux]] = cap[aux]\n",
    "    aux += 1"
   ]
  },
  {
   "cell_type": "code",
   "execution_count": 6,
   "metadata": {},
   "outputs": [],
   "source": [
    "\n",
    "#d.to_csv('1000.csv')"
   ]
  },
  {
   "cell_type": "markdown",
   "metadata": {},
   "source": [
    "## Visualización de la red generada de forma aleatoria\n",
    "\n",
    "Para darnos una idea de la forma y dimensión que representa una red de gran escala se utilizó la herramienta [_Gephi_](https://gephi.org/), que es de código abierto y es utilizada principalmente para diferentes tipos de análisis: de exploración de datos, de enlaces y estructuras, de redes (en general), entre otros.\n",
    "\n",
    "Para las pruebas del paquete MaxFlowAeiu se generó de forma aleatoria una red de las siguietes dimensiones:\n",
    "\n",
    "> Número de **Nodos**: 1000\n",
    "\n",
    "> Número de **Aristas**: 3000"
   ]
  },
  {
   "cell_type": "markdown",
   "metadata": {},
   "source": [
    "<p align = \"center\">\n",
    "    <img src=\"../images/Red_1000.png\" width=\"1200\" height=\"700\" />"
   ]
  },
  {
   "cell_type": "markdown",
   "metadata": {},
   "source": [
    "Debido a que es una red generada de forma aleatoria, no podemos encontrar patrones que podamos identificar ya que no representa algo particular. Sin embargo, para fines de apreciación, se destacaron los nodos con mayor conectividad (con mayores tamaños de nodo y de número). Recordando un poco de la forma en que se implementó nuestro algoritmo `MaxFlowAeiu`, se parte de una red donde el nodo fuente es el identificado con el número '0' y el nodo sumidero (_sink_) con el número que representa al último de la red (en este caso el 999, ya que la numeración empieza en 0).\n",
    "\n",
    "En las siguientes Figuras se muestran ambos nodos, para darnos una idea de cómo se podrían encontrar las trayectorias desde la fuente hasta el sumidero, así como la conectividad de ambos nodos.\n",
    "\n",
    "### Nodo Fuente ('0')\n",
    "\n",
    "<p align = \"center\">\n",
    "    <img src=\"../images/Fuente.png\" width=\"1400\" height=\"700\" />"
   ]
  },
  {
   "cell_type": "markdown",
   "metadata": {},
   "source": [
    "### Nodo Sumidero ('999')\n",
    "\n",
    "<p align = \"center\">\n",
    "    <img src=\"../images/Sumidero.png\" width=\"1400\" height=\"700\" />"
   ]
  }
 ],
 "metadata": {
  "interpreter": {
   "hash": "b33d1c799ecfb8631b1d241a102d01a7a2081d24334ca20082a6af5b3d994f65"
  },
  "kernelspec": {
   "display_name": "Python 3.9.7 ('base')",
   "language": "python",
   "name": "python3"
  },
  "language_info": {
   "codemirror_mode": {
    "name": "ipython",
    "version": 3
   },
   "file_extension": ".py",
   "mimetype": "text/x-python",
   "name": "python",
   "nbconvert_exporter": "python",
   "pygments_lexer": "ipython3",
   "version": "3.9.7"
  },
  "orig_nbformat": 4
 },
 "nbformat": 4,
 "nbformat_minor": 2
}
