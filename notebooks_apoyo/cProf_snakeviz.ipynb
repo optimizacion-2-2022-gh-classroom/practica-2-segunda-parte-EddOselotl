{
 "cells": [
  {
   "cell_type": "code",
   "execution_count": 1,
   "metadata": {},
   "outputs": [],
   "source": [
    "import snakeviz\n",
    "import pandas as pd\n",
    "import networkx as nx\n",
    "import random\n",
    "from MaxFlowAeiu.MaxFlowAeiu import MaxFlowAeiu"
   ]
  },
  {
   "cell_type": "markdown",
   "metadata": {},
   "source": [
    "## Utilización de _SnakeViz_ para el perfilamiento de código\n",
    "\n",
    "Esta herramienta permite visualizar los resultados del perfilamiento de una forma gráfica y con una interfase interactiva para analizar las líneas de código que requieren más tiempo de ejecución. De acuerdo con su [documentación](https://jiffyclub.github.io/snakeviz/#starting-snakeviz) se puede ejecutar desde la línea de comandos, siempre que se haya instalado con:\n",
    "\n",
    "```\n",
    "\n",
    "C:\\pip install snakeviz\n",
    "\n",
    "```\n",
    "\n",
    "Y generando un archivo con extensión `<.prof>` que se puede crear después de hacer un perfilamiento, por ejemplo, con este código:\n",
    "\n",
    "```\n",
    "\n",
    "C:\\python -m cProfile -o program.prof my_program.py\n",
    "\n",
    "```\n",
    "\n",
    "Después de ejecutar el comando anterior se genera el archivo \"program.prof\", el cual se puede abrir con la función **snakeviz** desde la línea de comandos, lo cual abrirá una pestaña del navegador con donde se ejecuta esta aplicación.\n",
    "\n",
    "```\n",
    "\n",
    "C:\\snakeviz program.prof\n",
    "\n",
    "```\n",
    "\n",
    "Por otro lado, si se quiere ver la aplicación dentro de los _NoteBooks_ de _Jupyter_, se puede cargar la extensión en el ambiente con el siguiente comando:"
   ]
  },
  {
   "cell_type": "code",
   "execution_count": 2,
   "metadata": {},
   "outputs": [],
   "source": [
    "%load_ext snakeviz"
   ]
  },
  {
   "cell_type": "markdown",
   "metadata": {},
   "source": [
    "Para indicar las líneas de código que se quieren perfilar se tiene que indicar el comando de _magic_ `%%snakeviz` al inicio de la celda:"
   ]
  },
  {
   "cell_type": "code",
   "execution_count": 3,
   "metadata": {},
   "outputs": [
    {
     "name": "stdout",
     "output_type": "stream",
     "text": [
      "The maximum flow in this network is 150\n",
      " \n",
      "*** Profile stats marshalled to file 'C:\\\\Users\\\\uard6\\\\AppData\\\\Local\\\\Temp\\\\tmpboy4mfgr'. \n",
      "Embedding SnakeViz in this document...\n"
     ]
    },
    {
     "data": {
      "text/html": [
       "\n",
       "<iframe id='snakeviz-6d05dec1-d4ae-11ec-b617-b89a2a2a2186' frameborder=0 seamless width='100%' height='1000'></iframe>\n",
       "<script>document.getElementById(\"snakeviz-6d05dec1-d4ae-11ec-b617-b89a2a2a2186\").setAttribute(\"src\", \"http://\" + document.location.hostname + \":8080/snakeviz/C%3A%5CUsers%5Cuard6%5CAppData%5CLocal%5CTemp%5Ctmpboy4mfgr\")</script>\n"
      ],
      "text/plain": [
       "<IPython.core.display.HTML object>"
      ]
     },
     "metadata": {},
     "output_type": "display_data"
    }
   ],
   "source": [
    "%%snakeviz\n",
    "n = 3000\n",
    "m = 9000\n",
    "network = nx.gnm_random_graph(n, m, directed=True)\n",
    "nodos = list(network.nodes)\n",
    "ramas = list(network.edges)\n",
    "# Crear arreglos de: nodo de envío, nodo de recepción y capacidad del enlace\n",
    "env = []\n",
    "rec = []\n",
    "cap = []\n",
    "for i in range(len(ramas)):\n",
    "    env.append(ramas[i][0])\n",
    "    rec.append(ramas[i][1])\n",
    "    cap.append(random.randint(20,100)) # La capacidad del enlace se determinade forma aleatoria con valores entre 20 y 100\n",
    "\n",
    "# Se crea el data frame o matriz de incidencias de los nodos. Se asegura que el nodo fuente sea el 0 \n",
    "# y solo tenga ramas saliendo de él y que el último nodo solo tenga ramas entrando (sumidero)\n",
    "d = pd.DataFrame(0, index=list(range(0,len(nodos))), columns=list(range(0,len(nodos))))\n",
    "aux = 0\n",
    "for n in env:\n",
    "    if rec[aux] == 0:\n",
    "        d.iloc[rec[aux],n] = cap[aux]\n",
    "    elif n == max(nodos):\n",
    "        d.iloc[rec[aux],n] = cap[aux]\n",
    "    else:\n",
    "        d.iloc[n,rec[aux]] = cap[aux]\n",
    "    aux += 1\n",
    "\n",
    "arreglo = d.values.tolist()\n",
    "MF = MaxFlowAeiu(arreglo)\n",
    "print(\"The maximum flow in this network is {}\".format(MF.ford_fulkerson()))"
   ]
  },
  {
   "cell_type": "markdown",
   "metadata": {},
   "source": [
    "La visualización interactiva nos permite varias opciones:\n",
    "\n",
    "+ Reporte completo del cProfile\n",
    "\n",
    "+ Filtro de tiempo de ejecución mínimo (1/100 y 1/1000 ms)\n",
    "\n",
    "+ Observar el top 3, 5, 10, 15, 20 de funciones o líneas que más tiempo consumen en su ejecución\n",
    "\n",
    "+ Detalle de las funciones del top de funciones (con las opciones que se mencionan en punto anterior)\n",
    "\n",
    "+ Buscar las funciones del código por nombre\n",
    "\n",
    "+ Visualización de gráfica de barras y tipo _sunburst_\n"
   ]
  }
 ],
 "metadata": {
  "interpreter": {
   "hash": "b0b9114ff97540c35f487fd8aeace44b1734c4192eb95ed5747a04256c3da9f8"
  },
  "kernelspec": {
   "display_name": "Python 3 (ipykernel)",
   "language": "python",
   "name": "python3"
  },
  "language_info": {
   "codemirror_mode": {
    "name": "ipython",
    "version": 3
   },
   "file_extension": ".py",
   "mimetype": "text/x-python",
   "name": "python",
   "nbconvert_exporter": "python",
   "pygments_lexer": "ipython3",
   "version": "3.9.7"
  }
 },
 "nbformat": 4,
 "nbformat_minor": 2
}
